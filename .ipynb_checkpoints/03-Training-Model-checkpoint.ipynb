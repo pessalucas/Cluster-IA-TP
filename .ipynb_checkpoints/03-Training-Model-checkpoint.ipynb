{
 "cells": [
  {
   "cell_type": "markdown",
   "id": "288a9e7e",
   "metadata": {},
   "source": [
    "# Training-Model\n",
    "\n",
    "1. Desarrollo de datasets\n",
    "2. Analisis exploratorio\n",
    "3. Ingenieria de caracteristicas\n",
    "4. **Enternamiento y prueba de modelo**\n",
    "\n",
    "Este script va ser el encargado de splitear, escalar, elegir y entrenar el modelo con los mejores parametros."
   ]
  },
  {
   "cell_type": "code",
   "execution_count": null,
   "id": "914ce963",
   "metadata": {},
   "outputs": [],
   "source": [
    "# Importo las librerias necesarias\n",
    "import pandas as pd\n",
    "import numpy as np\n",
    "import matplotlib.pyplot as plt\n",
    "import math\n",
    "\n",
    "# Ajuste de funcion poly\n",
    "from sklearn.pipeline import make_pipeline\n",
    "from sklearn.preprocessing import PolynomialFeatures\n",
    "from sklearn.linear_model import LinearRegression\n",
    "from sklearn.model_selection import train_test_split\n",
    "from sklearn.metrics import r2_score, mean_squared_error, mean_absolute_error\n",
    "\n",
    "#MachineLearning\n",
    "from sklearn import ensemble, tree, linear_model\n",
    "from sklearn.model_selection import train_test_split, cross_val_score\n",
    "from sklearn.metrics import r2_score, mean_squared_error\n",
    "from sklearn.utils import shuffle\n",
    "from sklearn.model_selection import cross_val_score, train_test_split\n",
    "from sklearn.preprocessing import StandardScaler\n",
    "from sklearn import preprocessing\n",
    "from sklearn.preprocessing import LabelEncoder\n",
    "from sklearn.linear_model import LinearRegression, RidgeCV, LassoCV, ElasticNetCV\n",
    "from sklearn.svm import SVR, LinearSVR\n",
    "from sklearn.neighbors import KNeighborsRegressor\n",
    "from sklearn.metrics import mean_squared_error, make_scorer\n",
    "from sklearn.model_selection import GridSearchCV\n",
    "from sklearn.ensemble import RandomForestRegressor\n",
    "\n",
    "pd.set_option('display.max_rows', 500)\n",
    "pd.set_option('display.max_columns', 500)\n",
    "pd.set_option('display.width', 1000)"
   ]
  },
  {
   "cell_type": "code",
   "execution_count": 43,
   "id": "ff3e2668",
   "metadata": {},
   "outputs": [],
   "source": [
    "# Cargo los dataset a utilizar\n",
    "dataset_general = pd.read_csv('data/fe/dataset_fe.csv')"
   ]
  },
  {
   "cell_type": "code",
   "execution_count": 44,
   "id": "58037cec",
   "metadata": {},
   "outputs": [
    {
     "data": {
      "text/html": [
       "<div>\n",
       "<style scoped>\n",
       "    .dataframe tbody tr th:only-of-type {\n",
       "        vertical-align: middle;\n",
       "    }\n",
       "\n",
       "    .dataframe tbody tr th {\n",
       "        vertical-align: top;\n",
       "    }\n",
       "\n",
       "    .dataframe thead th {\n",
       "        text-align: right;\n",
       "    }\n",
       "</style>\n",
       "<table border=\"1\" class=\"dataframe\">\n",
       "  <thead>\n",
       "    <tr style=\"text-align: right;\">\n",
       "      <th></th>\n",
       "      <th>Unnamed: 0</th>\n",
       "      <th>actos_coleg_esc</th>\n",
       "      <th>monto_cred_uva</th>\n",
       "      <th>superficie</th>\n",
       "      <th>precio_venta_m2</th>\n",
       "      <th>expectativa_inflacion_mediana</th>\n",
       "      <th>tasas_interes_pm</th>\n",
       "      <th>precio_alquiler_dolares</th>\n",
       "      <th>mes</th>\n",
       "    </tr>\n",
       "  </thead>\n",
       "  <tbody>\n",
       "    <tr>\n",
       "      <th>0</th>\n",
       "      <td>0</td>\n",
       "      <td>3121.0</td>\n",
       "      <td>0.0</td>\n",
       "      <td>126882.0</td>\n",
       "      <td>2197.955607</td>\n",
       "      <td>30.0</td>\n",
       "      <td>17.14</td>\n",
       "      <td>386.997250</td>\n",
       "      <td>6</td>\n",
       "    </tr>\n",
       "    <tr>\n",
       "      <th>1</th>\n",
       "      <td>1</td>\n",
       "      <td>3044.0</td>\n",
       "      <td>0.0</td>\n",
       "      <td>103881.0</td>\n",
       "      <td>2156.769231</td>\n",
       "      <td>30.0</td>\n",
       "      <td>17.14</td>\n",
       "      <td>369.452667</td>\n",
       "      <td>5</td>\n",
       "    </tr>\n",
       "  </tbody>\n",
       "</table>\n",
       "</div>"
      ],
      "text/plain": [
       "   Unnamed: 0  actos_coleg_esc  monto_cred_uva  superficie  precio_venta_m2  expectativa_inflacion_mediana  tasas_interes_pm  precio_alquiler_dolares  mes\n",
       "0           0           3121.0             0.0    126882.0      2197.955607                           30.0             17.14               386.997250    6\n",
       "1           1           3044.0             0.0    103881.0      2156.769231                           30.0             17.14               369.452667    5"
      ]
     },
     "execution_count": 44,
     "metadata": {},
     "output_type": "execute_result"
    }
   ],
   "source": [
    "dataset_general.head(2)"
   ]
  },
  {
   "cell_type": "code",
   "execution_count": 45,
   "id": "6ee11a71",
   "metadata": {},
   "outputs": [],
   "source": [
    "# Columna no me aporta valor\n",
    "dataset_general = dataset_general.drop('Unnamed: 0', 1)"
   ]
  },
  {
   "cell_type": "code",
   "execution_count": 46,
   "id": "ad879b71",
   "metadata": {},
   "outputs": [],
   "source": [
    "# Defino las features y el target\n",
    "X = dataset_general.drop([\"actos_coleg_esc\"], axis=1)\n",
    "y = dataset_general['actos_coleg_esc']"
   ]
  },
  {
   "cell_type": "code",
   "execution_count": 47,
   "id": "7982bd1e",
   "metadata": {},
   "outputs": [],
   "source": [
    "# Divido la muestra para el entramiento del modelo\n",
    "X_train, X_test, y_train, y_test = train_test_split(X,y,test_size=0.40,random_state=47)"
   ]
  },
  {
   "cell_type": "code",
   "execution_count": 48,
   "id": "8996635e",
   "metadata": {},
   "outputs": [],
   "source": [
    "# Realizo el escalamiento\n",
    "\n",
    "from sklearn.preprocessing import MinMaxScaler\n",
    "\n",
    "# Genero la norm con el X_train\n",
    "norm = MinMaxScaler().fit(X_train)\n",
    "\n",
    "# Ajusto la X_train\n",
    "X_train_norm = norm.transform(X_train)\n",
    "\n",
    "# Ajusto por separado la X_test\n",
    "X_test_norm = norm.transform(X_test)"
   ]
  },
  {
   "cell_type": "code",
   "execution_count": 49,
   "id": "b12b892c",
   "metadata": {},
   "outputs": [
    {
     "data": {
      "image/png": "[encoded data removed]",
      "text/plain": [
       "<Figure size 432x288 with 2 Axes>"
      ]
     },
     "metadata": {},
     "output_type": "display_data"
    }
   ],
   "source": [
    "# Verificamos el escalamiento\n",
    "\n",
    "import seaborn as sns\n",
    "\n",
    "sns.set_style(\"white\")\n",
    "sns.set_context(\"talk\")\n",
    "sns.set_style(\"ticks\")\n",
    "sns.heatmap(X_train_norm)\n",
    "plt.show()"
   ]
  },
  {
   "cell_type": "code",
   "execution_count": 51,
   "id": "4961aeca",
   "metadata": {},
   "outputs": [
    {
     "data": {
      "text/plain": [
       "GridSearchCV(cv=3, estimator=RandomForestRegressor(),\n",
       "             param_grid={'max_features': [0.5, 'sqrt', 'log2'],\n",
       "                         'min_samples_leaf': [1, 5],\n",
       "                         'n_estimators': [50, 200]})"
      ]
     },
     "execution_count": 51,
     "metadata": {},
     "output_type": "execute_result"
    }
   ],
   "source": [
    "# Pruebo con un Random Forest Regressor\n",
    "rf= RandomForestRegressor()\n",
    "\n",
    "param_trees = {'n_estimators': [50, 200], \n",
    "               'max_features': [0.5, 'sqrt','log2'],  \n",
    "               'min_samples_leaf':[1, 5]}\n",
    "\n",
    "\n",
    "regressor_rf = GridSearchCV(rf, param_grid = param_trees, refit = True, cv = 3)\n",
    "regressor_rf.fit(X_train_norm, y_train.ravel())"
   ]
  },
  {
   "cell_type": "code",
   "execution_count": 52,
   "id": "2737e7d3",
   "metadata": {},
   "outputs": [
    {
     "data": {
      "text/plain": [
       "{'max_features': 0.5, 'min_samples_leaf': 1, 'n_estimators': 50}"
      ]
     },
     "execution_count": 52,
     "metadata": {},
     "output_type": "execute_result"
    }
   ],
   "source": [
    "regressor_rf.best_params_"
   ]
  },
  {
   "cell_type": "code",
   "execution_count": 53,
   "id": "03c60d45",
   "metadata": {},
   "outputs": [
    {
     "data": {
      "text/plain": [
       "0.7233669823306772"
      ]
     },
     "execution_count": 53,
     "metadata": {},
     "output_type": "execute_result"
    }
   ],
   "source": [
    "regressor_rf.best_score_"
   ]
  },
  {
   "cell_type": "code",
   "execution_count": 60,
   "id": "d87c3711",
   "metadata": {},
   "outputs": [
    {
     "data": {
      "text/plain": [
       "488.45420608574676"
      ]
     },
     "execution_count": 60,
     "metadata": {},
     "output_type": "execute_result"
    }
   ],
   "source": [
    "ypred1 = regressor_rf.predict(X_test_norm)\n",
    "np.sqrt(mean_squared_error(y_test, ypred1))"
   ]
  },
  {
   "cell_type": "code",
   "execution_count": 61,
   "id": "ce5480d5",
   "metadata": {},
   "outputs": [
    {
     "name": "stdout",
     "output_type": "stream",
     "text": [
      "Fitting 3 folds for each of 8 candidates, totalling 24 fits\n"
     ]
    },
    {
     "data": {
      "text/plain": [
       "GridSearchCV(cv=3, estimator=SVR(),\n",
       "             param_grid={'C': [1, 10], 'gamma': [0.1, 1],\n",
       "                         'kernel': ('linear', 'rbf')},\n",
       "             verbose=True)"
      ]
     },
     "execution_count": 61,
     "metadata": {},
     "output_type": "execute_result"
    }
   ],
   "source": [
    "# Prueba un suport vector regressor\n",
    "svreg = SVR()\n",
    "\n",
    "param_svreg = {'kernel':('linear', 'rbf'), 'C':[1, 10 ], 'gamma':[ 0.1,1]}\n",
    "\n",
    "regressor_svr = GridSearchCV(svreg, param_svreg, cv=3, verbose=True)\n",
    "regressor_svr.fit(X_train_norm, y_train.ravel())"
   ]
  },
  {
   "cell_type": "code",
   "execution_count": 62,
   "id": "d9c3dffc",
   "metadata": {},
   "outputs": [
    {
     "data": {
      "text/plain": [
       "{'C': 10, 'gamma': 0.1, 'kernel': 'linear'}"
      ]
     },
     "execution_count": 62,
     "metadata": {},
     "output_type": "execute_result"
    }
   ],
   "source": [
    "regressor_svr.best_params_"
   ]
  },
  {
   "cell_type": "code",
   "execution_count": 63,
   "id": "f8948b99",
   "metadata": {},
   "outputs": [
    {
     "data": {
      "text/plain": [
       "-0.014754054940147624"
      ]
     },
     "execution_count": 63,
     "metadata": {},
     "output_type": "execute_result"
    }
   ],
   "source": [
    "regressor_svr.best_score_"
   ]
  },
  {
   "cell_type": "code",
   "execution_count": 64,
   "id": "b17ea98f",
   "metadata": {},
   "outputs": [],
   "source": [
    "ypred2 = regressor_svr.predict(X_test_norm)"
   ]
  },
  {
   "cell_type": "code",
   "execution_count": 67,
   "id": "a32d5211",
   "metadata": {},
   "outputs": [
    {
     "data": {
      "text/plain": [
       "1196.0427352598174"
      ]
     },
     "execution_count": 67,
     "metadata": {},
     "output_type": "execute_result"
    }
   ],
   "source": [
    "np.sqrt(mean_squared_error(y_test, ypred2))"
   ]
  },
  {
   "cell_type": "code",
   "execution_count": 68,
   "id": "9d4e9e63",
   "metadata": {},
   "outputs": [
    {
     "data": {
      "text/plain": [
       "RandomForestRegressor(max_features=0.5, n_estimators=50, random_state=0)"
      ]
     },
     "execution_count": 68,
     "metadata": {},
     "output_type": "execute_result"
    }
   ],
   "source": [
    "# Elijo el random forest regressor: Entreno el modelo final.\n",
    "\n",
    "# Defino el primer modelo a testear:\n",
    "model = RandomForestRegressor(max_features=0.5, min_samples_leaf=1, n_estimators=50, random_state=0)\n",
    "\n",
    "# Fiteo:\n",
    "model.fit(X_train_norm, y_train )"
   ]
  },
  {
   "cell_type": "code",
   "execution_count": 69,
   "id": "cbdd0558",
   "metadata": {},
   "outputs": [],
   "source": [
    "ypred = model.predict(X_test_norm)"
   ]
  },
  {
   "cell_type": "code",
   "execution_count": 103,
   "id": "7a140edd",
   "metadata": {},
   "outputs": [
    {
     "name": "stdout",
     "output_type": "stream",
     "text": [
      "MSE: 213710.75921428567\n"
     ]
    }
   ],
   "source": [
    "# MSE\n",
    "MSE = mean_squared_error(y_test, ypred)\n",
    "print('MSE: ' + str(MSE))"
   ]
  },
  {
   "cell_type": "code",
   "execution_count": 109,
   "id": "f751c48d",
   "metadata": {},
   "outputs": [
    {
     "name": "stdout",
     "output_type": "stream",
     "text": [
      "MAE: 462.2886103012767\n"
     ]
    }
   ],
   "source": [
    "# MAE\n",
    "MAE = np.sqrt(mean_squared_error(y_test, ypred))\n",
    "print('MAE: ' + str(RMSE))"
   ]
  },
  {
   "cell_type": "code",
   "execution_count": 110,
   "id": "cf8706d3",
   "metadata": {},
   "outputs": [
    {
     "name": "stdout",
     "output_type": "stream",
     "text": [
      "R2: 0.8448078219867514\n"
     ]
    }
   ],
   "source": [
    "# R2\n",
    "R2 = r2_score(y_test, ypred)\n",
    "print('R2: ' + str(R2))\n",
    "\n",
    "# Vemos que la variabilidad se ajusta bastante bien."
   ]
  },
  {
   "cell_type": "code",
   "execution_count": 80,
   "id": "05b66ea6",
   "metadata": {},
   "outputs": [
    {
     "data": {
      "text/plain": [
       "Text(0.5, 1.0, 'Evaluation of Model')"
      ]
     },
     "execution_count": 80,
     "metadata": {},
     "output_type": "execute_result"
    },
    {
     "data": {
      "image/png": "[encoded data removed]",
      "text/plain": [
       "<Figure size 432x288 with 1 Axes>"
      ]
     },
     "metadata": {},
     "output_type": "display_data"
    }
   ],
   "source": [
    "# let's evaluate our predictions respect to the real sale price\n",
    "plt.scatter(y_test, model.predict(X_test_norm))\n",
    "plt.xlabel('True value')\n",
    "plt.ylabel('Predicted Value')\n",
    "plt.title('Evaluation of Model')"
   ]
  },
  {
   "cell_type": "code",
   "execution_count": 79,
   "id": "27e6b5b7",
   "metadata": {},
   "outputs": [
    {
     "data": {
      "image/png": "[encoded data removed]",
      "text/plain": [
       "<Figure size 432x288 with 1 Axes>"
      ]
     },
     "metadata": {},
     "output_type": "display_data"
    }
   ],
   "source": [
    "# let's evaluate the distribution of the errors: \n",
    "# they should be fairly normally distributed\n",
    "\n",
    "preds = pd.Series(model.predict(X_test_norm))\n",
    "\n",
    "errors = y_test - preds\n",
    "errors.hist(bins=3)\n",
    "plt.show()"
   ]
  },
  {
   "cell_type": "code",
   "execution_count": 99,
   "id": "9fdf303c",
   "metadata": {},
   "outputs": [
    {
     "name": "stdout",
     "output_type": "stream",
     "text": [
      "Feature: 0 (monto_cred_uva) , Score: 0.2851937109061582\n",
      "Feature: 1 (superficie) , Score: 0.05402987635243699\n",
      "Feature: 2 (precio_venta_m2) , Score: 0.09930494051002522\n",
      "Feature: 3 (expectativa_inflacion_mediana) , Score: 0.11729468715412793\n",
      "Feature: 4 (tasas_interes_pm) , Score: 0.029490010213778894\n",
      "Feature: 5 (precio_alquiler_dolares) , Score: 0.25181758536029036\n",
      "Feature: 6 (mes) , Score: 0.16286918950318258\n"
     ]
    },
    {
     "data": {
      "image/png": "[encoded data removed]",
      "text/plain": [
       "<Figure size 432x288 with 1 Axes>"
      ]
     },
     "metadata": {},
     "output_type": "display_data"
    }
   ],
   "source": [
    "# Feature importance:\n",
    "\n",
    "# get importance\n",
    "importance = model.feature_importances_\n",
    "# summarize feature importance\n",
    "for i,v in enumerate(importance):\n",
    "    name_col = X_train.columns[i]\n",
    "    print('Feature: ' + str(i) + ' (' + name_col + ') , Score: ' + str(v) )\n",
    "# plot feature importance\n",
    "plt.bar([x for x in range(len(importance))], importance)\n",
    "plt.show()"
   ]
  }
 ],
 "metadata": {
  "kernelspec": {
   "display_name": "Python 3",
   "language": "python",
   "name": "python3"
  },
  "language_info": {
   "codemirror_mode": {
    "name": "ipython",
    "version": 3
   },
   "file_extension": ".py",
   "mimetype": "text/x-python",
   "name": "python",
   "nbconvert_exporter": "python",
   "pygments_lexer": "ipython3",
   "version": "3.8.8"
  }
 },
 "nbformat": 4,
 "nbformat_minor": 5
}
