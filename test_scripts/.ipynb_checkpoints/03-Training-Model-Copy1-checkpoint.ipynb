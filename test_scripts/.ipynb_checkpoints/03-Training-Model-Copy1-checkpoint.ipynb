{
 "cells": [
  {
   "cell_type": "code",
   "execution_count": 1,
   "id": "23449118",
   "metadata": {},
   "outputs": [],
   "source": [
    "# Importo las librerias necesarias\n",
    "import pandas as pd\n",
    "import numpy as np\n",
    "import matplotlib.pyplot as plt\n",
    "import math\n",
    "\n",
    "# Ajuste de funcion poly\n",
    "from sklearn.pipeline import make_pipeline\n",
    "from sklearn.preprocessing import PolynomialFeatures\n",
    "from sklearn.linear_model import LinearRegression\n",
    "from sklearn.model_selection import train_test_split\n",
    "from sklearn.metrics import r2_score, mean_squared_error\n",
    "\n",
    "pd.set_option('display.max_rows', 500)\n",
    "pd.set_option('display.max_columns', 500)\n",
    "pd.set_option('display.width', 1000)"
   ]
  },
  {
   "cell_type": "code",
   "execution_count": 2,
   "id": "ff3e2668",
   "metadata": {},
   "outputs": [],
   "source": [
    "# Cargo los dataset a utilizar\n",
    "dataset_general = pd.read_csv('data/fe/dataset_fe.csv')"
   ]
  },
  {
   "cell_type": "code",
   "execution_count": 3,
   "id": "58037cec",
   "metadata": {},
   "outputs": [
    {
     "data": {
      "text/html": [
       "<div>\n",
       "<style scoped>\n",
       "    .dataframe tbody tr th:only-of-type {\n",
       "        vertical-align: middle;\n",
       "    }\n",
       "\n",
       "    .dataframe tbody tr th {\n",
       "        vertical-align: top;\n",
       "    }\n",
       "\n",
       "    .dataframe thead th {\n",
       "        text-align: right;\n",
       "    }\n",
       "</style>\n",
       "<table border=\"1\" class=\"dataframe\">\n",
       "  <thead>\n",
       "    <tr style=\"text-align: right;\">\n",
       "      <th></th>\n",
       "      <th>Unnamed: 0</th>\n",
       "      <th>actos_coleg_esc</th>\n",
       "      <th>monto_cred_uva</th>\n",
       "      <th>superficie</th>\n",
       "      <th>precio_venta_m2</th>\n",
       "      <th>expectativa_inflacion_mediana</th>\n",
       "      <th>tasas_interes_pm</th>\n",
       "      <th>precio_alquiler_dolares</th>\n",
       "      <th>mes</th>\n",
       "    </tr>\n",
       "  </thead>\n",
       "  <tbody>\n",
       "    <tr>\n",
       "      <th>0</th>\n",
       "      <td>0</td>\n",
       "      <td>3121.0</td>\n",
       "      <td>0.0</td>\n",
       "      <td>126882.0</td>\n",
       "      <td>2197.955607</td>\n",
       "      <td>30.0</td>\n",
       "      <td>17.14</td>\n",
       "      <td>386.997250</td>\n",
       "      <td>6</td>\n",
       "    </tr>\n",
       "    <tr>\n",
       "      <th>1</th>\n",
       "      <td>1</td>\n",
       "      <td>3044.0</td>\n",
       "      <td>0.0</td>\n",
       "      <td>103881.0</td>\n",
       "      <td>2156.769231</td>\n",
       "      <td>30.0</td>\n",
       "      <td>17.14</td>\n",
       "      <td>369.452667</td>\n",
       "      <td>5</td>\n",
       "    </tr>\n",
       "  </tbody>\n",
       "</table>\n",
       "</div>"
      ],
      "text/plain": [
       "   Unnamed: 0  actos_coleg_esc  monto_cred_uva  superficie  precio_venta_m2  expectativa_inflacion_mediana  tasas_interes_pm  precio_alquiler_dolares  mes\n",
       "0           0           3121.0             0.0    126882.0      2197.955607                           30.0             17.14               386.997250    6\n",
       "1           1           3044.0             0.0    103881.0      2156.769231                           30.0             17.14               369.452667    5"
      ]
     },
     "execution_count": 3,
     "metadata": {},
     "output_type": "execute_result"
    }
   ],
   "source": [
    "dataset_general.head(2)"
   ]
  },
  {
   "cell_type": "code",
   "execution_count": 4,
   "id": "6ee11a71",
   "metadata": {},
   "outputs": [],
   "source": [
    "# Columna no me aporta valor\n",
    "dataset_general = dataset_general.drop('Unnamed: 0', 1)"
   ]
  },
  {
   "cell_type": "code",
   "execution_count": 5,
   "id": "ad879b71",
   "metadata": {},
   "outputs": [],
   "source": [
    "# Defino las features y el target\n",
    "X = dataset_general.drop([\"actos_coleg_esc\"], axis=1)\n",
    "y = dataset_general['actos_coleg_esc']"
   ]
  },
  {
   "cell_type": "code",
   "execution_count": 6,
   "id": "7982bd1e",
   "metadata": {},
   "outputs": [],
   "source": [
    "# Divido la muestra para el entramiento del modelo\n",
    "X_train, X_test, y_train, y_test = train_test_split(X,y,test_size=0.40,random_state=47)"
   ]
  },
  {
   "cell_type": "code",
   "execution_count": 7,
   "id": "8996635e",
   "metadata": {},
   "outputs": [],
   "source": [
    "# Realizo el escalamiento\n",
    "\n",
    "from sklearn.preprocessing import MinMaxScaler\n",
    "\n",
    "# Genero la norm con el X_train\n",
    "norm = MinMaxScaler().fit(X_train)\n",
    "\n",
    "# Ajusto la X_train\n",
    "X_train_norm = norm.transform(X_train)\n",
    "\n",
    "# Ajusto por separado la X_test\n",
    "X_test_norm = norm.transform(X_test)"
   ]
  },
  {
   "cell_type": "code",
   "execution_count": 103,
   "id": "b12b892c",
   "metadata": {},
   "outputs": [
    {
     "data": {
      "image/png": "[encoded data removed]",
      "text/plain": [
       "<Figure size 432x288 with 2 Axes>"
      ]
     },
     "metadata": {},
     "output_type": "display_data"
    }
   ],
   "source": [
    "# Verificamos el escalamiento\n",
    "\n",
    "import seaborn as sns\n",
    "\n",
    "sns.set_style(\"white\")\n",
    "sns.set_context(\"talk\")\n",
    "sns.set_style(\"ticks\")\n",
    "sns.heatmap(X_train_norm)\n",
    "plt.show()"
   ]
  },
  {
   "cell_type": "code",
   "execution_count": 104,
   "id": "e6bde252",
   "metadata": {},
   "outputs": [],
   "source": [
    "# Voy a utilizar K-Folds o LOOCV para el entrenamiento:\n",
    "# https://platzi.com/clases/1796-scikitlearn-ml/25666-validacion-de-nuestro-modelo-usando-cross-validati/\n",
    "\n",
    "from sklearn.tree import DecisionTreeRegressor\n",
    "from sklearn.model_selection import cross_val_score\n",
    "from sklearn.model_selection import KFold"
   ]
  },
  {
   "cell_type": "code",
   "execution_count": 105,
   "id": "4d07c782",
   "metadata": {},
   "outputs": [
    {
     "data": {
      "text/plain": [
       "DecisionTreeRegressor()"
      ]
     },
     "execution_count": 105,
     "metadata": {},
     "output_type": "execute_result"
    }
   ],
   "source": [
    "# Defino el modelo\n",
    "model = DecisionTreeRegressor()\n",
    "\n",
    "# Fiteo:\n",
    "model.fit(X_train_norm, y_train)"
   ]
  },
  {
   "cell_type": "code",
   "execution_count": 106,
   "id": "dd2aaa4e",
   "metadata": {},
   "outputs": [],
   "source": [
    "ypred2 = model.predict(X_test_norm)"
   ]
  },
  {
   "cell_type": "code",
   "execution_count": 107,
   "id": "c33d6870",
   "metadata": {},
   "outputs": [
    {
     "data": {
      "text/plain": [
       "554.8302185611121"
      ]
     },
     "execution_count": 107,
     "metadata": {},
     "output_type": "execute_result"
    }
   ],
   "source": [
    "np.sqrt(mean_squared_error(y_test, ypred2))"
   ]
  },
  {
   "cell_type": "code",
   "execution_count": 115,
   "id": "40a4046e",
   "metadata": {},
   "outputs": [
    {
     "data": {
      "text/plain": [
       "Text(0.5, 1.0, 'Evaluation of Lasso Predictions')"
      ]
     },
     "execution_count": 115,
     "metadata": {},
     "output_type": "execute_result"
    },
    {
     "data": {
      "image/png": "[encoded data removed]",
      "text/plain": [
       "<Figure size 432x288 with 1 Axes>"
      ]
     },
     "metadata": {},
     "output_type": "display_data"
    }
   ],
   "source": [
    "# let's evaluate our predictions respect to the real sale price\n",
    "plt.scatter(y_test, model.predict(X_test_norm))\n",
    "plt.xlabel('True House Price')\n",
    "plt.ylabel('Predicted House Price')\n",
    "plt.title('Evaluation of Lasso Predictions')"
   ]
  },
  {
   "cell_type": "code",
   "execution_count": 121,
   "id": "ddf452cf",
   "metadata": {},
   "outputs": [
    {
     "data": {
      "image/png": "[encoded data removed]",
      "text/plain": [
       "<Figure size 432x288 with 1 Axes>"
      ]
     },
     "metadata": {},
     "output_type": "display_data"
    }
   ],
   "source": [
    "# let's evaluate the distribution of the errors: \n",
    "# they should be fairly normally distributed\n",
    "\n",
    "preds = pd.Series(model.predict(X_test_norm))\n",
    "\n",
    "errors = y_test - preds\n",
    "errors.hist(bins=4)\n",
    "plt.show()"
   ]
  }
 ],
 "metadata": {
  "kernelspec": {
   "display_name": "Python 3",
   "language": "python",
   "name": "python3"
  },
  "language_info": {
   "codemirror_mode": {
    "name": "ipython",
    "version": 3
   },
   "file_extension": ".py",
   "mimetype": "text/x-python",
   "name": "python",
   "nbconvert_exporter": "python",
   "pygments_lexer": "ipython3",
   "version": "3.8.8"
  }
 },
 "nbformat": 4,
 "nbformat_minor": 5
}
